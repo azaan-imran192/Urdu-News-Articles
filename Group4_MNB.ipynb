{
 "cells": [
  {
   "cell_type": "code",
   "execution_count": 86,
   "metadata": {},
   "outputs": [],
   "source": [
    "#Importing Libraries\n",
    "import numpy as np\n",
    "import pandas as pd\n",
    "from sklearn.model_selection import train_test_split\n",
    "from sklearn.metrics import accuracy_score, precision_score, recall_score, f1_score, confusion_matrix\n",
    "import regex as re\n",
    "import seaborn as sns\n",
    "import matplotlib.pyplot as plt\n",
    "from sklearn.feature_extraction.text import CountVectorizer\n",
    "from sklearn.naive_bayes import MultinomialNB\n",
    "\n"
   ]
  },
  {
   "cell_type": "code",
   "execution_count": 87,
   "metadata": {},
   "outputs": [],
   "source": [
    "file_path = r'C:\\Users\\HP\\Downloads\\final1.csv'\n",
    "dataset = pd.read_csv(file_path)"
   ]
  },
  {
   "cell_type": "code",
   "execution_count": 88,
   "metadata": {},
   "outputs": [],
   "source": [
    "#we identified some stopwords in urdu and removed them\n",
    "custom_urdu_stopwords = set([    \"اور\", \"سے\", \"کا\", \"کی\", \"ہے\", \"کو\", \"پر\", \"یہ\", \"میں\", \"جو\", \"وہ\", \"کہ\", \"ایک\", \"ہم\", \"تم\", \"آپ\", \"سب\", \"کچھ\"])\n",
    "\n",
    "def clean_text(text):\n",
    "    text = ' '.join([word for word in text.split() if word not in custom_urdu_stopwords])  \n",
    "    return text\n",
    "\n",
    "\n",
    "dataset = dataset[['content', 'gold_label']].dropna()\n",
    "dataset['content'] = dataset['content'].apply(clean_text)\n"
   ]
  },
  {
   "cell_type": "code",
   "execution_count": 89,
   "metadata": {},
   "outputs": [
    {
     "name": "stdout",
     "output_type": "stream",
     "text": [
      "1441\n"
     ]
    }
   ],
   "source": [
    "print(dataset['content'].shape[0])"
   ]
  },
  {
   "cell_type": "code",
   "execution_count": 90,
   "metadata": {},
   "outputs": [],
   "source": [
    "X_train_raw, X_test_raw, y_train, y_test = train_test_split(dataset['content'], dataset['gold_label'], test_size=0.2, random_state=42)"
   ]
  },
  {
   "cell_type": "code",
   "execution_count": 91,
   "metadata": {},
   "outputs": [],
   "source": [
    "class BagOfWords:\n",
    "    def __init__(self):\n",
    "        self.vocab = {}\n",
    "        self.vocab_size = 0\n",
    "\n",
    "    def fit(self, corpus):\n",
    "        for sentence in corpus:\n",
    "            words = self._tokenize(sentence)\n",
    "            for word in words:\n",
    "                if word not in self.vocab:\n",
    "                    self.vocab[word] = self.vocab_size\n",
    "                    self.vocab_size += 1\n",
    "\n",
    "    def vectorize(self, sentence):\n",
    "        vector = np.zeros(self.vocab_size)\n",
    "        words = self._tokenize(sentence)\n",
    "        for word in words:\n",
    "            if word in self.vocab:\n",
    "                index = self.vocab[word]\n",
    "                vector[index] += 1\n",
    "        return vector\n",
    "\n",
    "    def _tokenize(self, sentence):\n",
    "        return sentence.split()\n",
    "\n",
    "bow = BagOfWords()\n",
    "bow.fit(X_train_raw)\n",
    "\n",
    "X_train = np.array([bow.vectorize(text) for text in X_train_raw])\n",
    "X_test = np.array([bow.vectorize(text) for text in X_test_raw])\n"
   ]
  },
  {
   "cell_type": "code",
   "execution_count": 92,
   "metadata": {},
   "outputs": [],
   "source": [
    "class NaiveBayes:\n",
    "    def __init__(self):\n",
    "        self.class_log_prior_ = None\n",
    "        self.feature_log_prob_ = None\n",
    "        self.classes_ = None\n",
    "    \n",
    "    def fit(self, X, y):\n",
    "        n_samples, n_features = X.shape\n",
    "        self.classes_ = np.unique(y)\n",
    "        n_classes = len(self.classes_)\n",
    "\n",
    "        self.class_log_prior_ = np.zeros(n_classes)\n",
    "        self.feature_log_prob_ = np.zeros((n_classes, n_features))\n",
    "\n",
    "        for idx, c in enumerate(self.classes_):\n",
    "            X_c = X[y == c]\n",
    "            n_c = X_c.shape[0]\n",
    "            self.class_log_prior_[idx] = np.log(n_c / n_samples)\n",
    "\n",
    "            word_count = X_c.sum(axis=0)\n",
    "            total_word_count = word_count.sum()\n",
    "            self.feature_log_prob_[idx] = np.log((word_count + 1) / (total_word_count + n_features))\n",
    "    \n",
    "    def predict(self, X):\n",
    "        log_posterior = self._calculate_log_posterior(X)\n",
    "        return self.classes_[np.argmax(log_posterior, axis=1)]\n",
    "    \n",
    "    def _calculate_log_posterior(self, X):\n",
    "        log_posterior = X @ self.feature_log_prob_.T + self.class_log_prior_\n",
    "        return log_posterior\n"
   ]
  },
  {
   "cell_type": "code",
   "execution_count": 93,
   "metadata": {},
   "outputs": [
    {
     "name": "stdout",
     "output_type": "stream",
     "text": [
      "Accuracy: 97.92%\n",
      "Precision: 97.89%\n",
      "Recall: 97.88%\n",
      "F1 Score: 97.88%\n",
      "\n",
      "Confusion Matrix:\n",
      "[[68  0  0  0  1]\n",
      " [ 0 60  0  0  0]\n",
      " [ 0  0 43  0  1]\n",
      " [ 0  0  0 57  1]\n",
      " [ 1  1  1  0 55]]\n",
      "\n",
      "\n",
      "1152 1152 289 289\n"
     ]
    }
   ],
   "source": [
    "naive_bayes = NaiveBayes()\n",
    "naive_bayes.fit(X_train, np.array(y_train))\n",
    "\n",
    "\n",
    "y_pred = naive_bayes.predict(X_test)\n",
    "\n",
    "accuracy = accuracy_score(y_test, y_pred)\n",
    "precision = precision_score(y_test, y_pred, average='macro')\n",
    "recall = recall_score(y_test, y_pred, average='macro')\n",
    "f1 = f1_score(y_test, y_pred, average='macro')\n",
    "\n",
    "conf_matrix = confusion_matrix(y_test, y_pred)\n",
    "\n",
    "print(f\"Accuracy: {accuracy * 100:.2f}%\")\n",
    "print(f\"Precision: {precision * 100:.2f}%\")\n",
    "print(f\"Recall: {recall * 100:.2f}%\")\n",
    "print(f\"F1 Score: {f1 * 100:.2f}%\")\n",
    "print(\"\\nConfusion Matrix:\")\n",
    "print(conf_matrix)\n",
    "print(\"\\n\")\n",
    "print(X_train.shape[0],y_train.shape[0],X_test.shape[0],y_test.shape[0])"
   ]
  },
  {
   "cell_type": "code",
   "execution_count": 94,
   "metadata": {},
   "outputs": [
    {
     "data": {
      "image/png": "[encoded data removed]",
      "text/plain": [
       "<Figure size 800x600 with 2 Axes>"
      ]
     },
     "metadata": {},
     "output_type": "display_data"
    }
   ],
   "source": [
    "plt.figure(figsize=(8, 6))\n",
    "sns.heatmap(conf_matrix, annot=True, fmt='d', cmap='Blues', xticklabels=np.unique(y_test), yticklabels=np.unique(y_test))\n",
    "plt.xlabel('Predicted Labels')\n",
    "plt.ylabel('True Labels')\n",
    "plt.title('Confusion Matrix Heatmap')\n",
    "plt.show()"
   ]
  },
  {
   "cell_type": "code",
   "execution_count": 95,
   "metadata": {},
   "outputs": [
    {
     "name": "stdout",
     "output_type": "stream",
     "text": [
      "Accuracy: 97.92%\n"
     ]
    }
   ],
   "source": [
    "#testing for sklearn\n",
    "X = dataset['content']  \n",
    "y = dataset['gold_label']  \n",
    "X_train_raw, X_test_raw, y_train, y_test = train_test_split(X, y, test_size=0.2, random_state=42)\n",
    "\n",
    "vectorizer = CountVectorizer()\n",
    "X_train = vectorizer.fit_transform(X_train_raw)  \n",
    "X_test = vectorizer.transform(X_test_raw)  \n",
    "model = MultinomialNB()\n",
    "model.fit(X_train, y_train)\n",
    "y_pred = model.predict(X_test)\n",
    "accuracy = accuracy_score(y_test, y_pred)\n",
    "print(f\"Accuracy: {accuracy * 100:.2f}%\")\n"
   ]
  }
 ],
 "metadata": {
  "kernelspec": {
   "display_name": "Python 3.12.1 64-bit",
   "language": "python",
   "name": "python3"
  },
  "language_info": {
   "codemirror_mode": {
    "name": "ipython",
    "version": 3
   },
   "file_extension": ".py",
   "mimetype": "text/x-python",
   "name": "python",
   "nbconvert_exporter": "python",
   "pygments_lexer": "ipython3",
   "version": "3.12.1"
  },
  "vscode": {
   "interpreter": {
    "hash": "aee8b7b246df8f9039afb4144a1f6fd8d2ca17a180786b69acc140d282b71a49"
   }
  }
 },
 "nbformat": 4,
 "nbformat_minor": 2
}
